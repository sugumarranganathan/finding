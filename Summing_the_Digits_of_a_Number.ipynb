{
  "nbformat": 4,
  "nbformat_minor": 0,
  "metadata": {
    "colab": {
      "provenance": []
    },
    "kernelspec": {
      "name": "python3",
      "display_name": "Python 3"
    },
    "language_info": {
      "name": "python"
    }
  },
  "cells": [
    {
      "cell_type": "code",
      "execution_count": 5,
      "metadata": {
        "colab": {
          "base_uri": "https://localhost:8080/"
        },
        "id": "PQaxDF3jgxzc",
        "outputId": "0cf65c7b-ba2b-4ff4-d89a-e3e82bcc185d"
      },
      "outputs": [
        {
          "output_type": "stream",
          "name": "stdout",
          "text": [
            "Enter a number: 1000\n",
            "Sum of digits in 1000 is: 1\n"
          ]
        }
      ],
      "source": [
        "# ● Read the input number.\n",
        "# ● Convert the number into individual digits.\n",
        "# ● Initialize a sum variable to 0.\n",
        "# ● For each digit in the number, add it to the sum variable.\n",
        "# ● Print the sum of the digits.\n",
        "\n",
        "def sum_of_digits(number):\n",
        "    digits = [int(d) for d in str(number)]\n",
        "    sum_digits = 0\n",
        "    for digit in digits:\n",
        "        sum_digits += digit\n",
        "    return sum_digits\n",
        "input_number = int(input(\"Enter a number: \"))\n",
        "result = sum_of_digits(input_number)\n",
        "print(f\"Sum of digits in {input_number} is: {result}\")"
      ]
    }
  ]
}