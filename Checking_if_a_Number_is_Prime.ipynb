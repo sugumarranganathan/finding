{
  "nbformat": 4,
  "nbformat_minor": 0,
  "metadata": {
    "colab": {
      "provenance": []
    },
    "kernelspec": {
      "name": "python3",
      "display_name": "Python 3"
    },
    "language_info": {
      "name": "python"
    }
  },
  "cells": [
    {
      "cell_type": "code",
      "execution_count": 3,
      "metadata": {
        "colab": {
          "base_uri": "https://localhost:8080/"
        },
        "id": "9uWUpnmjvSGh",
        "outputId": "f13d7fd2-49e6-489f-ab3c-da20c3a804d1"
      },
      "outputs": [
        {
          "output_type": "stream",
          "name": "stdout",
          "text": [
            "Enter a number: 10\n",
            "Not Prime\n"
          ]
        }
      ],
      "source": [
        "# ● Read the input number.\n",
        "# ● If the number is less than 2, print &quot;Not Prime&quot;.\n",
        "# ● Loop from 2 to the square root of the number:\n",
        "# ○ If the number is divisible by any of these values, print &quot;Not Prime&quot; and exit.\n",
        "# ● If no divisors are found, print &quot;Prime&quot;.\n",
        "\n",
        "import math\n",
        "\n",
        "def check_prime():\n",
        "    # Read the input number\n",
        "    num = int(input(\"Enter a number: \"))\n",
        "\n",
        "    # If the number is less than 2, print \"Not Prime\"\n",
        "    if num < 2:\n",
        "        print(\"Not Prime\")\n",
        "        return\n",
        "\n",
        "    # Loop from 2 to the square root of the number\n",
        "    for i in range(2, int(math.sqrt(num)) + 1):\n",
        "        # If the number is divisible by any of these values, print \"Not Prime\" and exit\n",
        "        if num % i == 0:\n",
        "            print(\"Not Prime\")\n",
        "            return\n",
        "\n",
        "    # If no divisors are found, print \"Prime\"\n",
        "    print(\"Prime\")\n",
        "\n",
        "# Call the function\n",
        "check_prime()\n"
      ]
    }
  ]
}