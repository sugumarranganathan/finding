{
  "nbformat": 4,
  "nbformat_minor": 0,
  "metadata": {
    "colab": {
      "provenance": []
    },
    "kernelspec": {
      "name": "python3",
      "display_name": "Python 3"
    },
    "language_info": {
      "name": "python"
    }
  },
  "cells": [
    {
      "cell_type": "code",
      "execution_count": 10,
      "metadata": {
        "colab": {
          "base_uri": "https://localhost:8080/"
        },
        "id": "1750CxeOjMgC",
        "outputId": "d8896eaa-ff3e-497d-aeb4-ee85a271392f"
      },
      "outputs": [
        {
          "output_type": "stream",
          "name": "stdout",
          "text": [
            "Original number: 123456\n",
            "Reversed number: 654321\n"
          ]
        },
        {
          "output_type": "execute_result",
          "data": {
            "text/plain": [
              "654321"
            ]
          },
          "metadata": {},
          "execution_count": 10
        }
      ],
      "source": [
        "# ● Read the input number.\n",
        "# ● Convert the number into a string.\n",
        "# ● Reverse the string.\n",
        "# ● Convert it back to a number.\n",
        "# ● Print the reversed number.\n",
        "\n",
        "def reverse_number(num):\n",
        "    input_number = num\n",
        "    number_string = str(input_number)\n",
        "    reversed_string = number_string[::-1]\n",
        "    reversed_number = int(reversed_string)\n",
        "    print(f\"Original number: {input_number}\")\n",
        "    print(f\"Reversed number: {reversed_number}\")\n",
        "    return reversed_number\n",
        "reverse_number(123456)"
      ]
    }
  ]
}