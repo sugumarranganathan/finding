{
  "nbformat": 4,
  "nbformat_minor": 0,
  "metadata": {
    "colab": {
      "provenance": []
    },
    "kernelspec": {
      "name": "python3",
      "display_name": "Python 3"
    },
    "language_info": {
      "name": "python"
    }
  },
  "cells": [
    {
      "cell_type": "code",
      "execution_count": 1,
      "metadata": {
        "colab": {
          "base_uri": "https://localhost:8080/"
        },
        "id": "-lNKBlrVxru4",
        "outputId": "0fe13ff6-0670-42a1-d81b-de540bc54986"
      },
      "outputs": [
        {
          "output_type": "stream",
          "name": "stdout",
          "text": [
            "Factorial of 0 is: 1\n",
            "Factorial of 1 is: 1\n",
            "Factorial of 3 is: 6\n",
            "Factorial of 5 is: 120\n",
            "Factorial of 7 is: 5040\n",
            "Factorial of 10 is: 3628800\n"
          ]
        }
      ],
      "source": [
        "# ● Read the input number.\n",
        "# ● If the number is 0 or 1, return 1.\n",
        "# ● Else, return the number multiplied by the factorial of (number - 1).\n",
        "# ● Print the result.\n",
        "\n",
        "def factorial(num):\n",
        "    if num == 0 or num == 1:\n",
        "        return 1\n",
        "    else:\n",
        "        return num * factorial(num - 1)\n",
        "\n",
        "# Example usage with different numbers\n",
        "test_numbers = [0, 1, 3, 5, 7, 10]\n",
        "\n",
        "for number in test_numbers:\n",
        "    result = factorial(number)\n",
        "    print(f\"Factorial of {number} is: {result}\")"
      ]
    }
  ]
}