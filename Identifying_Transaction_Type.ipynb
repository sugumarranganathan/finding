{
  "nbformat": 4,
  "nbformat_minor": 0,
  "metadata": {
    "colab": {
      "provenance": []
    },
    "kernelspec": {
      "name": "python3",
      "display_name": "Python 3"
    },
    "language_info": {
      "name": "python"
    }
  },
  "cells": [
    {
      "cell_type": "code",
      "source": [
        "● Read the input number.\n",
        "● If the number is greater than 0, print &quot;Positive (Deposit)&quot;.\n",
        "● Else if the number is less than 0, print &quot;Negative (Withdrawal)&quot;.\n",
        "● Else, print &quot;Zero (No Transaction)&quot;.\n",
        "\n",
        "\n",
        "number = float(input(\"Enter a number: \"))\n",
        "if number > 0:\n",
        "    print(\"Positive (Deposit)\")\n",
        "elif number < 0:\n",
        "    print(\"Negative (Withdrawal)\")\n",
        "else:\n",
        "    print(\"Zero (No Transaction)\")"
      ],
      "metadata": {
        "colab": {
          "base_uri": "https://localhost:8080/"
        },
        "id": "n5UUakHN8V9E",
        "outputId": "af488e81-ef73-4cd4-c561-4f91812710c7"
      },
      "execution_count": 7,
      "outputs": [
        {
          "output_type": "stream",
          "name": "stdout",
          "text": [
            "Enter a number: -800\n",
            "Negative (Withdrawal)\n"
          ]
        }
      ]
    }
  ]
}