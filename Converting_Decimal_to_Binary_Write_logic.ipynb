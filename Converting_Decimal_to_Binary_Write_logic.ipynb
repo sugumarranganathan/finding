{
  "nbformat": 4,
  "nbformat_minor": 0,
  "metadata": {
    "colab": {
      "provenance": []
    },
    "kernelspec": {
      "name": "python3",
      "display_name": "Python 3"
    },
    "language_info": {
      "name": "python"
    }
  },
  "cells": [
    {
      "cell_type": "code",
      "execution_count": 1,
      "metadata": {
        "colab": {
          "base_uri": "https://localhost:8080/"
        },
        "id": "A_WvDK7B3fSX",
        "outputId": "5d749c8e-b19b-4f2e-a05c-9307b69cd7e1"
      },
      "outputs": [
        {
          "output_type": "stream",
          "name": "stdout",
          "text": [
            "Decimal to Binary Conversion:\n",
            "------------------------------\n",
            " 25 -> 11001\n",
            " 10 -> 1010\n",
            "  7 -> 111\n",
            " 16 -> 10000\n",
            "  1 -> 1\n",
            "  0 -> 0\n"
          ]
        }
      ],
      "source": [
        "\n",
        "# ● Read the input decimal number.\n",
        "# ● Initialize an empty string for binary representation.\n",
        "# ● While the number is greater than 0:\n",
        "# ○ Divide the number by 2 and store the remainder.\n",
        "# ○ Add the remainder to the binary string.\n",
        "# ○ Update the number by dividing it by 2.\n",
        "# ● Reverse the binary string.\n",
        "# ● Print the binary representation.\n",
        "\n",
        "\n",
        "def decimal_to_binary(decimal_number):\n",
        "    \"\"\"\n",
        "    Convert a decimal number to binary representation\n",
        "    \"\"\"\n",
        "    # Handle special case of 0\n",
        "    if decimal_number == 0:\n",
        "        return \"0\"\n",
        "\n",
        "    # Initialize an empty string for binary representation\n",
        "    binary_string = \"\"\n",
        "\n",
        "    # While the number is greater than 0\n",
        "    while decimal_number > 0:\n",
        "        # Divide the number by 2 and store the remainder\n",
        "        remainder = decimal_number % 2\n",
        "        # Add the remainder to the binary string\n",
        "        binary_string += str(remainder)\n",
        "        # Update the number by dividing it by 2 (integer division)\n",
        "        decimal_number //= 2\n",
        "\n",
        "    # Reverse the binary string\n",
        "    binary_string = binary_string[::-1]\n",
        "\n",
        "    # Return the binary representation\n",
        "    return binary_string\n",
        "\n",
        "# Example usage with different numbers\n",
        "test_numbers = [25, 10, 7, 16, 1, 0]\n",
        "\n",
        "print(\"Decimal to Binary Conversion:\")\n",
        "print(\"-\" * 30)\n",
        "for num in test_numbers:\n",
        "    binary = decimal_to_binary(num)\n",
        "    print(f\"{num:3d} -> {binary}\")"
      ]
    }
  ]
}