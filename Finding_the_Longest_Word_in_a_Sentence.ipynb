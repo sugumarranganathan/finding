{
  "nbformat": 4,
  "nbformat_minor": 0,
  "metadata": {
    "colab": {
      "provenance": []
    },
    "kernelspec": {
      "name": "python3",
      "display_name": "Python 3"
    },
    "language_info": {
      "name": "python"
    }
  },
  "cells": [
    {
      "cell_type": "code",
      "execution_count": 2,
      "metadata": {
        "colab": {
          "base_uri": "https://localhost:8080/"
        },
        "id": "zF-NFFbm6lLQ",
        "outputId": "28354d30-0a2c-43f2-824b-046bebd877be"
      },
      "outputs": [
        {
          "output_type": "stream",
          "name": "stdout",
          "text": [
            "individual\n"
          ]
        }
      ],
      "source": [
        "\n",
        "# ● Read the input sentence.\n",
        "# ● Split the sentence into individual words.\n",
        "# ● Initialize a variable to store the longest word.\n",
        "# ● Loop through each word:\n",
        "# ● if the current word is longer than the stored longest word, update the longest word.\n",
        "# ● Print the longest word.\n",
        "\n",
        "# Given input sentence\n",
        "sentence = \"Read the input sentence. Split the sentence into individual words. Initialize a variable to store the longest word. Loop through each word: if the current word is longer than the stored longest word, update the longest word. Print the longest word.\"\n",
        "\n",
        "# Step 1: Split the sentence into words\n",
        "words = sentence.split()\n",
        "\n",
        "# Step 2: Initialize a variable to store the longest word\n",
        "longest_word = \"\"\n",
        "\n",
        "# Step 3: Loop through each word and update longest_word if necessary\n",
        "for word in words:\n",
        "    # Remove punctuation from word for accurate length comparison\n",
        "    clean_word = word.strip('.:,;')\n",
        "    if len(clean_word) > len(longest_word):\n",
        "        longest_word = clean_word\n",
        "\n",
        "# Step 4: Print the longest word\n",
        "print(longest_word)\n"
      ]
    }
  ]
}