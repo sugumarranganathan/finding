{
  "nbformat": 4,
  "nbformat_minor": 0,
  "metadata": {
    "colab": {
      "provenance": []
    },
    "kernelspec": {
      "name": "python3",
      "display_name": "Python 3"
    },
    "language_info": {
      "name": "python"
    }
  },
  "cells": [
    {
      "cell_type": "code",
      "execution_count": 1,
      "metadata": {
        "colab": {
          "base_uri": "https://localhost:8080/"
        },
        "id": "qi9t2OOsze18",
        "outputId": "54a42bb7-7868-4114-c6b6-4ac63a761bc1"
      },
      "outputs": [
        {
          "output_type": "stream",
          "name": "stdout",
          "text": [
            "153: Armstrong Number\n",
            "371: Armstrong Number\n",
            "9474: Armstrong Number\n",
            "123: Not an Armstrong Number\n",
            "407: Armstrong Number\n"
          ]
        }
      ],
      "source": [
        "\n",
        "# ● Read the input number.\n",
        "# ● Count the number of digits.\n",
        "# ● Initialize a sum variable to 0.\n",
        "# ● For each digit in the number:\n",
        "# ○ Raise the digit to the power of the total number of digits.\n",
        "# ○ Add the result to the sum variable.\n",
        "# ● If the sum is equal to the original number, print &quot;Armstrong Number&quot;.\n",
        "# ● Else, print &quot;Not an Armstrong Number&quot;.\n",
        "\n",
        "def is_armstrong_number(num):\n",
        "    # Convert the number to string to count digits\n",
        "    num_str = str(num)\n",
        "    num_digits = len(num_str)\n",
        "\n",
        "    # Initialize sum variable\n",
        "    sum_of_powers = 0\n",
        "\n",
        "    # Calculate the sum of digits raised to the power of total digits\n",
        "    for digit in num_str:\n",
        "        sum_of_powers += int(digit) ** num_digits\n",
        "\n",
        "    # Check if the sum is equal to the original number\n",
        "    if sum_of_powers == num:\n",
        "        return \"Armstrong Number\"\n",
        "    else:\n",
        "        return \"Not an Armstrong Number\"\n",
        "\n",
        "# Test with different numbers\n",
        "test_numbers = [153, 371, 9474, 123, 407]\n",
        "\n",
        "for number in test_numbers:\n",
        "    result = is_armstrong_number(number)\n",
        "    print(f\"{number}: {result}\")\n"
      ]
    }
  ]
}