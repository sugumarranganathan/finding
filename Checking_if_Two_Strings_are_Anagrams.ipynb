{
  "nbformat": 4,
  "nbformat_minor": 0,
  "metadata": {
    "colab": {
      "provenance": []
    },
    "kernelspec": {
      "name": "python3",
      "display_name": "Python 3"
    },
    "language_info": {
      "name": "python"
    }
  },
  "cells": [
    {
      "cell_type": "code",
      "execution_count": 3,
      "metadata": {
        "colab": {
          "base_uri": "https://localhost:8080/"
        },
        "id": "yElmvhp_8BK6",
        "outputId": "75b3b0b7-23f7-4e66-9cf3-b01be3857a51"
      },
      "outputs": [
        {
          "output_type": "stream",
          "name": "stdout",
          "text": [
            "Enter first string: 34\n",
            "Enter second string: 43\n",
            "Anagram\n"
          ]
        }
      ],
      "source": [
        "\n",
        "# ● Read the two input strings.\n",
        "# ● Remove spaces and convert both strings to lowercase.\n",
        "# ● Sort the characters of both strings.\n",
        "# ● If the sorted versions of both strings are identical, print Anagram.\n",
        "# ● Else, print &quot;Not an Anagram\n",
        "\n",
        "\n",
        "# Read two input strings\n",
        "string1 = input(\"Enter first string: \")\n",
        "string2 = input(\"Enter second string: \")\n",
        "\n",
        "# Remove spaces and convert to lowercase\n",
        "string1_processed = string1.replace(\" \", \"\").lower()\n",
        "string2_processed = string2.replace(\" \", \"\").lower()\n",
        "\n",
        "# Sort the characters of both strings\n",
        "sorted_string1 = sorted(string1_processed)\n",
        "sorted_string2 = sorted(string2_processed)\n",
        "\n",
        "# Compare and print result\n",
        "if sorted_string1 == sorted_string2:\n",
        "    print(\"Anagram\")\n",
        "else:\n",
        "    print(\"Not an Anagram\")"
      ]
    }
  ]
}