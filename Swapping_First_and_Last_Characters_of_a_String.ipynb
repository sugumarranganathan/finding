{
  "nbformat": 4,
  "nbformat_minor": 0,
  "metadata": {
    "colab": {
      "provenance": []
    },
    "kernelspec": {
      "name": "python3",
      "display_name": "Python 3"
    },
    "language_info": {
      "name": "python"
    }
  },
  "cells": [
    {
      "cell_type": "code",
      "execution_count": 7,
      "metadata": {
        "colab": {
          "base_uri": "https://localhost:8080/"
        },
        "id": "7UxRjskg1-Of",
        "outputId": "84a87208-be08-471f-c5e6-044b86995e89"
      },
      "outputs": [
        {
          "output_type": "stream",
          "name": "stdout",
          "text": [
            "Enter a string: 6943\n",
            "3946\n"
          ]
        }
      ],
      "source": [
        "\n",
        "# ● Read the input string.\n",
        "# ● If the string length is less than 2, print the string as is.\n",
        "# ● Swap the first and last characters while keeping the middle part unchanged.\n",
        "# ● Print the modified string.\n",
        "\n",
        "\n",
        "def swap_first_last(s):\n",
        "    # If string length is less than 2, return as is\n",
        "    if len(s) < 2:\n",
        "        return s\n",
        "\n",
        "    # Swap first and last characters: last + middle + first\n",
        "    return s[-1] + s[1:-1] + s[0]\n",
        "\n",
        "# Read input string\n",
        "input_string = input(\"Enter a string: \")\n",
        "\n",
        "# Apply the transformation\n",
        "result = swap_first_last(input_string)\n",
        "\n",
        "# Print the modified string\n",
        "print(result)"
      ]
    }
  ]
}